{
 "cells": [
  {
   "cell_type": "code",
   "execution_count": null,
   "metadata": {},
   "outputs": [],
   "source": [
    "#Importar las librerias pandas, numpy y matplotlib\n",
    "import pandas as pd\n",
    "import numpy as np\n",
    "import matplotlib.pyplot as plt"
   ]
  },
  {
   "cell_type": "code",
   "execution_count": null,
   "metadata": {},
   "outputs": [],
   "source": [
    "#Lectura del archivo.csv\n",
    "data = pd.read_csv(\"CountryTable.csv\")\n",
    "data"
   ]
  },
  {
   "cell_type": "code",
   "execution_count": null,
   "metadata": {},
   "outputs": [],
   "source": [
    "#Detección de datos nulos por columna\n",
    "total_nulos_col = data.isnull().sum()\n",
    "total_nulos_col"
   ]
  },
  {
   "cell_type": "markdown",
   "metadata": {},
   "source": [
    "MÉTODOS DE REEMPLAZO DE VALORES NULOS"
   ]
  },
  {
   "cell_type": "code",
   "execution_count": null,
   "metadata": {},
   "outputs": [],
   "source": [
    "#\"independence_year\": rellenar con el valor \"1900\"\n",
    "data[\"independence_year\"]=data[\"independence_year\"].fillna(1900)"
   ]
  },
  {
   "cell_type": "code",
   "execution_count": null,
   "metadata": {},
   "outputs": [],
   "source": [
    "#\"life_expectancy\": rellenar con el valor \"mean\" de la columna\n",
    "data[\"life_expectancy\"]=data[\"life_expectancy\"].fillna(round(data[\"life_expectancy\"].mean(),1)) #El 1 significa que solo me deje un decimal"
   ]
  },
  {
   "cell_type": "code",
   "execution_count": null,
   "metadata": {},
   "outputs": [],
   "source": [
    "#\"gnp_old\": rellenar con el valor \"median\" de la columna\n",
    "data[\"gnp_old\"]=data[\"gnp_old\"].fillna(round(data[\"gnp_old\"].median(),1)) #El 1 es de un decimal"
   ]
  },
  {
   "cell_type": "code",
   "execution_count": null,
   "metadata": {},
   "outputs": [],
   "source": [
    "#\"local_name\": rellenar con el string \"Inexistente\"\n",
    "data[\"local_name\"] = data[\"local_name\"].fillna(\"Inexistente\")"
   ]
  },
  {
   "cell_type": "code",
   "execution_count": null,
   "metadata": {},
   "outputs": [],
   "source": [
    "#\"head_of_state\": rellenar con el string \"Desconocido\"\n",
    "data[\"head_of_state\"] = data[\"head_of_state\"].fillna(\"Desconocido\")"
   ]
  },
  {
   "cell_type": "code",
   "execution_count": null,
   "metadata": {},
   "outputs": [],
   "source": [
    "#\"capital\": rellenar con el valor \"0\"\n",
    "data[\"capital\"]=data[\"capital\"].fillna(0)"
   ]
  },
  {
   "cell_type": "code",
   "execution_count": null,
   "metadata": {},
   "outputs": [],
   "source": [
    "#\"code2\": rellenar con el string \"NA\"\n",
    "data[\"code2\"] = data[\"code2\"].fillna(\"NA\")"
   ]
  },
  {
   "cell_type": "code",
   "execution_count": null,
   "metadata": {},
   "outputs": [],
   "source": [
    "#Comprobación del remplazo de nulos\n",
    "total_nulos_col = data.isnull().sum()\n",
    "total_nulos_col"
   ]
  },
  {
   "cell_type": "markdown",
   "metadata": {},
   "source": [
    "DETECCIÓN DE OUTLIERS"
   ]
  },
  {
   "cell_type": "markdown",
   "metadata": {},
   "source": [
    "Distribución normal"
   ]
  },
  {
   "cell_type": "code",
   "execution_count": null,
   "metadata": {},
   "outputs": [],
   "source": [
    "#Creación de una copia de la base de datos\n",
    "data2=data.copy()"
   ]
  },
  {
   "cell_type": "code",
   "execution_count": null,
   "metadata": {},
   "outputs": [],
   "source": [
    "#Valores extremos: límite superior y límite inferior.\n",
    "#Variable: gnp_old.\n",
    "x1=data2[\"gnp_old\"]\n",
    "LS1= x1.mean() + 2*x1.std()\n",
    "LI1= x1.mean() - 2*x1.std()\n",
    "print(\"Limite superior permitido\", LS1)\n",
    "print(\"Limite inferior permitido\", LI1)"
   ]
  },
  {
   "cell_type": "code",
   "execution_count": null,
   "metadata": {},
   "outputs": [],
   "source": [
    "#Outliers de gnp_old\n",
    "outliers_gnp_old_desvest = data2[(x1>LS1)|(x1<LI1)]\n",
    "outliers_gnp_old_desvest"
   ]
  },
  {
   "cell_type": "code",
   "execution_count": null,
   "metadata": {},
   "outputs": [],
   "source": [
    "#Diagrama de caja: gnp_old.\n",
    "fig1 = plt.figure(figsize =(5, 3))\n",
    "plt.boxplot(data2[\"gnp_old\"]) \n",
    "plt.title(\"Outliers de gnp_old\")\n",
    "plt.show() #diagrama para visualizar outliers"
   ]
  },
  {
   "cell_type": "code",
   "execution_count": null,
   "metadata": {},
   "outputs": [],
   "source": [
    "#Valores extremos: límite superior y límite inferior.\n",
    "#Variable: population.\n",
    "x2=data2[\"population\"]\n",
    "LS2= x2.mean() + 2*x2.std()\n",
    "LI2= x2.mean() - 2*x2.std()\n",
    "print(\"Limite superior permitido\", LS2)\n",
    "print(\"Limite inferior permitido\", LI2)"
   ]
  },
  {
   "cell_type": "code",
   "execution_count": null,
   "metadata": {},
   "outputs": [],
   "source": [
    "#Outliers de population\n",
    "outliers_population_desvest = data2[(x2>LS2)|(x2<LI2)]\n",
    "outliers_population_desvest"
   ]
  },
  {
   "cell_type": "code",
   "execution_count": null,
   "metadata": {},
   "outputs": [],
   "source": [
    "#Diagrama de caja: population.\n",
    "fig2 = plt.figure(figsize =(5, 3))\n",
    "plt.boxplot(data2[\"population\"]) \n",
    "plt.title(\"Outliers de population\")\n",
    "plt.show() #diagrama para visualizar outliers"
   ]
  },
  {
   "cell_type": "markdown",
   "metadata": {},
   "source": [
    "Rango intercuartílico"
   ]
  },
  {
   "cell_type": "code",
   "execution_count": null,
   "metadata": {},
   "outputs": [],
   "source": [
    "#Valores extremos: límite superior y límite inferior.\n",
    "#Variable: gnp_old.\n",
    "\n",
    "x3=data2[\"gnp_old\"]\n",
    "\n",
    "p25x3=x3.quantile(0.25) #Q1\n",
    "p75x3=x3.quantile(0.75) #Q3\n",
    "iqrx3 = p75x3 - p25x3 #Q3-Q1\n",
    "\n",
    "LS_iqr_x3 = p75x3 + 1.3*iqrx3\n",
    "LI_iqr_x3 = p25x3 - 1.3*iqrx3\n",
    "print(\"Limite superior permitido\", LS_iqr_x3)\n",
    "print(\"Limite inferior permitido\", LI_iqr_x3)"
   ]
  },
  {
   "cell_type": "code",
   "execution_count": null,
   "metadata": {},
   "outputs": [],
   "source": [
    "#Outliers de gnp_old\n",
    "outliers_gnp_old_iqr = data2[(x3>LS_iqr_x3)|(x3<LI_iqr_x3)]\n",
    "outliers_gnp_old_iqr"
   ]
  },
  {
   "cell_type": "code",
   "execution_count": null,
   "metadata": {},
   "outputs": [],
   "source": [
    "#Diagrama de caja: gnp_old.\n",
    "fig3 = plt.figure(figsize =(5, 3))\n",
    "plt.boxplot(data2[\"gnp_old\"]) \n",
    "plt.title(\"Outliers de gnp_old\")\n",
    "plt.show() #diagrama para visualizar outliers"
   ]
  },
  {
   "cell_type": "code",
   "execution_count": null,
   "metadata": {},
   "outputs": [],
   "source": [
    "#Valores extremos: límite superior y límite inferior.\n",
    "#Variable: surface_area\n",
    "\n",
    "x4=data2[\"surface_area\"]\n",
    "\n",
    "p25x4=x4.quantile(0.25) #Q1\n",
    "p75x4=x4.quantile(0.75) #Q3\n",
    "iqrx4 = p75x4 - p25x4 #Q3-Q1\n",
    "\n",
    "LS_iqr_x4 = p75x4 + 1.3*iqrx4\n",
    "LI_iqr_x4 = p25x4 - 1.3*iqrx4\n",
    "print(\"Limite superior permitido\", LS_iqr_x4)\n",
    "print(\"Limite inferior permitido\", LI_iqr_x4)"
   ]
  },
  {
   "cell_type": "code",
   "execution_count": null,
   "metadata": {},
   "outputs": [],
   "source": [
    "#Outliers de surface_area\n",
    "outliers_surf_area_iqr = data2[(x4>LS_iqr_x4)|(x4<LI_iqr_x4)]\n",
    "outliers_surf_area_iqr"
   ]
  },
  {
   "cell_type": "code",
   "execution_count": null,
   "metadata": {},
   "outputs": [],
   "source": [
    "#Diagrama de caja: surface_area\n",
    "fig4 = plt.figure(figsize =(5, 3))\n",
    "plt.boxplot(data2[\"surface_area\"]) \n",
    "plt.title(\"Outliers de surface_area\")\n",
    "plt.show() #diagrama para visualizar outliers"
   ]
  },
  {
   "cell_type": "code",
   "execution_count": 122,
   "metadata": {},
   "outputs": [
    {
     "name": "stdout",
     "output_type": "stream",
     "text": [
      "Limite superior permitido 92.7\n",
      "Limite inferior permitido 44.10000000000001\n"
     ]
    }
   ],
   "source": [
    "#Valores extremos: límite superior y límite inferior.\n",
    "#Variable: life_expectancy\n",
    "\n",
    "x5=data2[\"life_expectancy\"]\n",
    "\n",
    "p25x5=x5.quantile(0.25) #Q1\n",
    "p75x5=x5.quantile(0.75) #Q3\n",
    "iqrx5 = p75x5 - p25x5 #Q3-Q1\n",
    "\n",
    "LS_iqr_x5 = p75x5 + 1.3*iqrx5\n",
    "LI_iqr_x5 = p25x5 - 1.3*iqrx5\n",
    "print(\"Limite superior permitido\", LS_iqr_x5)\n",
    "print(\"Limite inferior permitido\", LI_iqr_x5)"
   ]
  },
  {
   "cell_type": "code",
   "execution_count": 123,
   "metadata": {},
   "outputs": [
    {
     "data": {
      "text/html": [
       "<div>\n",
       "<style scoped>\n",
       "    .dataframe tbody tr th:only-of-type {\n",
       "        vertical-align: middle;\n",
       "    }\n",
       "\n",
       "    .dataframe tbody tr th {\n",
       "        vertical-align: top;\n",
       "    }\n",
       "\n",
       "    .dataframe thead th {\n",
       "        text-align: right;\n",
       "    }\n",
       "</style>\n",
       "<table border=\"1\" class=\"dataframe\">\n",
       "  <thead>\n",
       "    <tr style=\"text-align: right;\">\n",
       "      <th></th>\n",
       "      <th>code</th>\n",
       "      <th>name</th>\n",
       "      <th>continent</th>\n",
       "      <th>region</th>\n",
       "      <th>surface_area</th>\n",
       "      <th>independence_year</th>\n",
       "      <th>population</th>\n",
       "      <th>life_expectancy</th>\n",
       "      <th>gnp</th>\n",
       "      <th>gnp_old</th>\n",
       "      <th>local_name</th>\n",
       "      <th>government_form</th>\n",
       "      <th>head_of_state</th>\n",
       "      <th>capital</th>\n",
       "      <th>code2</th>\n",
       "    </tr>\n",
       "  </thead>\n",
       "  <tbody>\n",
       "    <tr>\n",
       "      <th>2</th>\n",
       "      <td>AGO</td>\n",
       "      <td>Angola</td>\n",
       "      <td>Africa</td>\n",
       "      <td>Central Africa</td>\n",
       "      <td>1246700.0</td>\n",
       "      <td>1975.0</td>\n",
       "      <td>12878000</td>\n",
       "      <td>38.3</td>\n",
       "      <td>6648.0</td>\n",
       "      <td>7984.0</td>\n",
       "      <td>Angola</td>\n",
       "      <td>Republic</td>\n",
       "      <td>Jose Eduardo dos Santos</td>\n",
       "      <td>56.0</td>\n",
       "      <td>AO</td>\n",
       "    </tr>\n",
       "    <tr>\n",
       "      <th>35</th>\n",
       "      <td>BWA</td>\n",
       "      <td>Botswana</td>\n",
       "      <td>Africa</td>\n",
       "      <td>Southern Africa</td>\n",
       "      <td>581730.0</td>\n",
       "      <td>1966.0</td>\n",
       "      <td>1622000</td>\n",
       "      <td>39.3</td>\n",
       "      <td>4834.0</td>\n",
       "      <td>4935.0</td>\n",
       "      <td>Botswana</td>\n",
       "      <td>Republic</td>\n",
       "      <td>Festus G. Mogae</td>\n",
       "      <td>204.0</td>\n",
       "      <td>BW</td>\n",
       "    </tr>\n",
       "    <tr>\n",
       "      <th>36</th>\n",
       "      <td>CAF</td>\n",
       "      <td>Central African Republic</td>\n",
       "      <td>Africa</td>\n",
       "      <td>Central Africa</td>\n",
       "      <td>622984.0</td>\n",
       "      <td>1960.0</td>\n",
       "      <td>3615000</td>\n",
       "      <td>44.0</td>\n",
       "      <td>1054.0</td>\n",
       "      <td>993.0</td>\n",
       "      <td>Centrafrique/Be-Afrika</td>\n",
       "      <td>Republic</td>\n",
       "      <td>Ange-Felix Patasse</td>\n",
       "      <td>1889.0</td>\n",
       "      <td>CF</td>\n",
       "    </tr>\n",
       "    <tr>\n",
       "      <th>143</th>\n",
       "      <td>MOZ</td>\n",
       "      <td>Mozambique</td>\n",
       "      <td>Africa</td>\n",
       "      <td>Eastern Africa</td>\n",
       "      <td>801590.0</td>\n",
       "      <td>1975.0</td>\n",
       "      <td>19680000</td>\n",
       "      <td>37.5</td>\n",
       "      <td>2891.0</td>\n",
       "      <td>2711.0</td>\n",
       "      <td>Mocambique</td>\n",
       "      <td>Republic</td>\n",
       "      <td>JoaquIm A. Chissano</td>\n",
       "      <td>2698.0</td>\n",
       "      <td>MZ</td>\n",
       "    </tr>\n",
       "    <tr>\n",
       "      <th>148</th>\n",
       "      <td>MWI</td>\n",
       "      <td>Malawi</td>\n",
       "      <td>Africa</td>\n",
       "      <td>Eastern Africa</td>\n",
       "      <td>118484.0</td>\n",
       "      <td>1964.0</td>\n",
       "      <td>10925000</td>\n",
       "      <td>37.6</td>\n",
       "      <td>1687.0</td>\n",
       "      <td>2527.0</td>\n",
       "      <td>Malawi</td>\n",
       "      <td>Republic</td>\n",
       "      <td>Bakili Muluzi</td>\n",
       "      <td>2462.0</td>\n",
       "      <td>MW</td>\n",
       "    </tr>\n",
       "    <tr>\n",
       "      <th>151</th>\n",
       "      <td>NAM</td>\n",
       "      <td>Namibia</td>\n",
       "      <td>Africa</td>\n",
       "      <td>Southern Africa</td>\n",
       "      <td>824292.0</td>\n",
       "      <td>1990.0</td>\n",
       "      <td>1726000</td>\n",
       "      <td>42.5</td>\n",
       "      <td>3101.0</td>\n",
       "      <td>3384.0</td>\n",
       "      <td>Namibia</td>\n",
       "      <td>Republic</td>\n",
       "      <td>Sam Nujoma</td>\n",
       "      <td>2726.0</td>\n",
       "      <td>NA</td>\n",
       "    </tr>\n",
       "    <tr>\n",
       "      <th>153</th>\n",
       "      <td>NER</td>\n",
       "      <td>Niger</td>\n",
       "      <td>Africa</td>\n",
       "      <td>Western Africa</td>\n",
       "      <td>1267000.0</td>\n",
       "      <td>1960.0</td>\n",
       "      <td>10730000</td>\n",
       "      <td>41.3</td>\n",
       "      <td>1706.0</td>\n",
       "      <td>1580.0</td>\n",
       "      <td>Niger</td>\n",
       "      <td>Republic</td>\n",
       "      <td>Mamadou Tandja</td>\n",
       "      <td>2738.0</td>\n",
       "      <td>NE</td>\n",
       "    </tr>\n",
       "    <tr>\n",
       "      <th>182</th>\n",
       "      <td>RWA</td>\n",
       "      <td>Rwanda</td>\n",
       "      <td>Africa</td>\n",
       "      <td>Eastern Africa</td>\n",
       "      <td>26338.0</td>\n",
       "      <td>1962.0</td>\n",
       "      <td>7733000</td>\n",
       "      <td>39.3</td>\n",
       "      <td>2036.0</td>\n",
       "      <td>1863.0</td>\n",
       "      <td>Rwanda/urwanda</td>\n",
       "      <td>Republic</td>\n",
       "      <td>Paul Kagame</td>\n",
       "      <td>3047.0</td>\n",
       "      <td>RW</td>\n",
       "    </tr>\n",
       "    <tr>\n",
       "      <th>201</th>\n",
       "      <td>SWZ</td>\n",
       "      <td>Swaziland</td>\n",
       "      <td>Africa</td>\n",
       "      <td>Southern Africa</td>\n",
       "      <td>17364.0</td>\n",
       "      <td>1968.0</td>\n",
       "      <td>1008000</td>\n",
       "      <td>40.4</td>\n",
       "      <td>1206.0</td>\n",
       "      <td>1312.0</td>\n",
       "      <td>kaNgwane</td>\n",
       "      <td>Monarchy</td>\n",
       "      <td>Mswati III</td>\n",
       "      <td>3244.0</td>\n",
       "      <td>SZ</td>\n",
       "    </tr>\n",
       "    <tr>\n",
       "      <th>219</th>\n",
       "      <td>uGA</td>\n",
       "      <td>uganda</td>\n",
       "      <td>Africa</td>\n",
       "      <td>Eastern Africa</td>\n",
       "      <td>241038.0</td>\n",
       "      <td>1962.0</td>\n",
       "      <td>21778000</td>\n",
       "      <td>42.9</td>\n",
       "      <td>6313.0</td>\n",
       "      <td>6887.0</td>\n",
       "      <td>uganda</td>\n",
       "      <td>Republic</td>\n",
       "      <td>Yoweri Museveni</td>\n",
       "      <td>3425.0</td>\n",
       "      <td>uG</td>\n",
       "    </tr>\n",
       "    <tr>\n",
       "      <th>237</th>\n",
       "      <td>ZMB</td>\n",
       "      <td>Zambia</td>\n",
       "      <td>Africa</td>\n",
       "      <td>Eastern Africa</td>\n",
       "      <td>752618.0</td>\n",
       "      <td>1964.0</td>\n",
       "      <td>9169000</td>\n",
       "      <td>37.2</td>\n",
       "      <td>3377.0</td>\n",
       "      <td>3922.0</td>\n",
       "      <td>Zambia</td>\n",
       "      <td>Republic</td>\n",
       "      <td>Frederick Chiluba</td>\n",
       "      <td>3162.0</td>\n",
       "      <td>ZM</td>\n",
       "    </tr>\n",
       "    <tr>\n",
       "      <th>238</th>\n",
       "      <td>ZWE</td>\n",
       "      <td>Zimbabwe</td>\n",
       "      <td>Africa</td>\n",
       "      <td>Eastern Africa</td>\n",
       "      <td>390757.0</td>\n",
       "      <td>1980.0</td>\n",
       "      <td>11669000</td>\n",
       "      <td>37.8</td>\n",
       "      <td>5951.0</td>\n",
       "      <td>8670.0</td>\n",
       "      <td>Zimbabwe</td>\n",
       "      <td>Republic</td>\n",
       "      <td>Robert G. Mugabe</td>\n",
       "      <td>4068.0</td>\n",
       "      <td>ZW</td>\n",
       "    </tr>\n",
       "  </tbody>\n",
       "</table>\n",
       "</div>"
      ],
      "text/plain": [
       "    code                      name continent           region  surface_area  \\\n",
       "2    AGO                    Angola    Africa   Central Africa     1246700.0   \n",
       "35   BWA                  Botswana    Africa  Southern Africa      581730.0   \n",
       "36   CAF  Central African Republic    Africa   Central Africa      622984.0   \n",
       "143  MOZ                Mozambique    Africa   Eastern Africa      801590.0   \n",
       "148  MWI                    Malawi    Africa   Eastern Africa      118484.0   \n",
       "151  NAM                   Namibia    Africa  Southern Africa      824292.0   \n",
       "153  NER                     Niger    Africa   Western Africa     1267000.0   \n",
       "182  RWA                    Rwanda    Africa   Eastern Africa       26338.0   \n",
       "201  SWZ                 Swaziland    Africa  Southern Africa       17364.0   \n",
       "219  uGA                    uganda    Africa   Eastern Africa      241038.0   \n",
       "237  ZMB                    Zambia    Africa   Eastern Africa      752618.0   \n",
       "238  ZWE                  Zimbabwe    Africa   Eastern Africa      390757.0   \n",
       "\n",
       "     independence_year  population  life_expectancy     gnp  gnp_old  \\\n",
       "2               1975.0    12878000             38.3  6648.0   7984.0   \n",
       "35              1966.0     1622000             39.3  4834.0   4935.0   \n",
       "36              1960.0     3615000             44.0  1054.0    993.0   \n",
       "143             1975.0    19680000             37.5  2891.0   2711.0   \n",
       "148             1964.0    10925000             37.6  1687.0   2527.0   \n",
       "151             1990.0     1726000             42.5  3101.0   3384.0   \n",
       "153             1960.0    10730000             41.3  1706.0   1580.0   \n",
       "182             1962.0     7733000             39.3  2036.0   1863.0   \n",
       "201             1968.0     1008000             40.4  1206.0   1312.0   \n",
       "219             1962.0    21778000             42.9  6313.0   6887.0   \n",
       "237             1964.0     9169000             37.2  3377.0   3922.0   \n",
       "238             1980.0    11669000             37.8  5951.0   8670.0   \n",
       "\n",
       "                 local_name government_form            head_of_state  capital  \\\n",
       "2                    Angola        Republic  Jose Eduardo dos Santos     56.0   \n",
       "35                 Botswana        Republic          Festus G. Mogae    204.0   \n",
       "36   Centrafrique/Be-Afrika        Republic       Ange-Felix Patasse   1889.0   \n",
       "143              Mocambique        Republic      JoaquIm A. Chissano   2698.0   \n",
       "148                  Malawi        Republic            Bakili Muluzi   2462.0   \n",
       "151                 Namibia        Republic               Sam Nujoma   2726.0   \n",
       "153                   Niger        Republic           Mamadou Tandja   2738.0   \n",
       "182          Rwanda/urwanda        Republic              Paul Kagame   3047.0   \n",
       "201                kaNgwane        Monarchy               Mswati III   3244.0   \n",
       "219                  uganda        Republic          Yoweri Museveni   3425.0   \n",
       "237                  Zambia        Republic        Frederick Chiluba   3162.0   \n",
       "238                Zimbabwe        Republic         Robert G. Mugabe   4068.0   \n",
       "\n",
       "    code2  \n",
       "2      AO  \n",
       "35     BW  \n",
       "36     CF  \n",
       "143    MZ  \n",
       "148    MW  \n",
       "151    NA  \n",
       "153    NE  \n",
       "182    RW  \n",
       "201    SZ  \n",
       "219    uG  \n",
       "237    ZM  \n",
       "238    ZW  "
      ]
     },
     "execution_count": 123,
     "metadata": {},
     "output_type": "execute_result"
    }
   ],
   "source": [
    "#Outliers de life_expectancy\n",
    "outliers_life_exp_iqr = data2[(x5>LS_iqr_x5)|(x5<LI_iqr_x5)]\n",
    "outliers_life_exp_iqr"
   ]
  },
  {
   "cell_type": "code",
   "execution_count": 124,
   "metadata": {},
   "outputs": [
    {
     "data": {
      "image/png": "[encoded data removed]",
      "text/plain": [
       "<Figure size 360x216 with 1 Axes>"
      ]
     },
     "metadata": {
      "needs_background": "light"
     },
     "output_type": "display_data"
    }
   ],
   "source": [
    "#Diagrama de caja: life_expectancy\n",
    "fig5 = plt.figure(figsize =(5, 3))\n",
    "plt.boxplot(data2[\"life_expectancy\"]) \n",
    "plt.title(\"Outliers de life_expectancy\")\n",
    "plt.show() #diagrama para visualizar outliers"
   ]
  },
  {
   "cell_type": "code",
   "execution_count": null,
   "metadata": {},
   "outputs": [],
   "source": [
    "# y population"
   ]
  }
 ],
 "metadata": {
  "kernelspec": {
   "display_name": "Python 3.10.6 64-bit (microsoft store)",
   "language": "python",
   "name": "python3"
  },
  "language_info": {
   "codemirror_mode": {
    "name": "ipython",
    "version": 3
   },
   "file_extension": ".py",
   "mimetype": "text/x-python",
   "name": "python",
   "nbconvert_exporter": "python",
   "pygments_lexer": "ipython3",
   "version": "3.10.6"
  },
  "orig_nbformat": 4,
  "vscode": {
   "interpreter": {
    "hash": "8bdb6cfb01423875b53bbdacac8cafabfbfae2881293bc8f69e02add7339e574"
   }
  }
 },
 "nbformat": 4,
 "nbformat_minor": 2
}
