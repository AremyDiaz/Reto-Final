{
 "cells": [
  {
   "cell_type": "code",
   "execution_count": null,
   "metadata": {},
   "outputs": [],
   "source": [
    "#Importar las librerias pandas, numpy y matplotlib\n",
    "import pandas as pd\n",
    "import numpy as np\n",
    "import matplotlib.pyplot as plt"
   ]
  },
  {
   "cell_type": "code",
   "execution_count": null,
   "metadata": {},
   "outputs": [],
   "source": [
    "#Lectura del archivo.csv\n",
    "data = pd.read_csv(\"CountryTable.csv\")\n",
    "data"
   ]
  },
  {
   "cell_type": "code",
   "execution_count": null,
   "metadata": {},
   "outputs": [],
   "source": [
    "#Detección de datos nulos por columna\n",
    "total_nulos_col = data.isnull().sum()\n",
    "total_nulos_col"
   ]
  },
  {
   "cell_type": "markdown",
   "metadata": {},
   "source": [
    "MÉTODOS DE REEMPLAZO DE VALORES NULOS"
   ]
  },
  {
   "cell_type": "code",
   "execution_count": null,
   "metadata": {},
   "outputs": [],
   "source": [
    "#\"independence_year\": rellenar con el valor \"1900\"\n",
    "data[\"independence_year\"]=data[\"independence_year\"].fillna(1900)"
   ]
  },
  {
   "cell_type": "code",
   "execution_count": null,
   "metadata": {},
   "outputs": [],
   "source": [
    "#\"life_expectancy\": rellenar con el valor \"mean\" de la columna\n",
    "data[\"life_expectancy\"]=data[\"life_expectancy\"].fillna(round(data[\"life_expectancy\"].mean(),1)) #El 1 significa que solo me deje un decimal"
   ]
  },
  {
   "cell_type": "code",
   "execution_count": null,
   "metadata": {},
   "outputs": [],
   "source": [
    "#\"gnp_old\": rellenar con el valor \"median\" de la columna\n",
    "data[\"gnp_old\"]=data[\"gnp_old\"].fillna(round(data[\"gnp_old\"].median(),1)) #El 1 es de un decimal"
   ]
  },
  {
   "cell_type": "code",
   "execution_count": null,
   "metadata": {},
   "outputs": [],
   "source": [
    "#\"local_name\": rellenar con el string \"Inexistente\"\n",
    "data[\"local_name\"] = data[\"local_name\"].fillna(\"Inexistente\")"
   ]
  },
  {
   "cell_type": "code",
   "execution_count": null,
   "metadata": {},
   "outputs": [],
   "source": [
    "#\"head_of_state\": rellenar con el string \"Desconocido\"\n",
    "data[\"head_of_state\"] = data[\"head_of_state\"].fillna(\"Desconocido\")"
   ]
  },
  {
   "cell_type": "code",
   "execution_count": null,
   "metadata": {},
   "outputs": [],
   "source": [
    "#\"capital\": rellenar con el valor \"0\"\n",
    "data[\"capital\"]=data[\"capital\"].fillna(0)"
   ]
  },
  {
   "cell_type": "code",
   "execution_count": null,
   "metadata": {},
   "outputs": [],
   "source": [
    "#\"code2\": rellenar con el string \"NA\"\n",
    "data[\"code2\"] = data[\"code2\"].fillna(\"NA\")"
   ]
  },
  {
   "cell_type": "code",
   "execution_count": null,
   "metadata": {},
   "outputs": [],
   "source": [
    "#Comprobación del remplazo de nulos\n",
    "total_nulos_col = data.isnull().sum()\n",
    "total_nulos_col"
   ]
  },
  {
   "cell_type": "markdown",
   "metadata": {},
   "source": [
    "DETECCIÓN DE OUTLIERS"
   ]
  },
  {
   "cell_type": "code",
   "execution_count": null,
   "metadata": {},
   "outputs": [],
   "source": [
    "#Creación de una copia de la base de datos\n",
    "data2=data.copy()"
   ]
  },
  {
   "cell_type": "code",
   "execution_count": null,
   "metadata": {},
   "outputs": [],
   "source": [
    "#Encuentro los valores extremos: límite superior y límite inferior.\n",
    "#Variable: gnp_old.\n",
    "x1=data2[\"gnp_old\"]\n",
    "LS1= x1.mean() + 2*x1.std()\n",
    "LI1= x1.mean() - 2*x1.std()\n",
    "print(\"Limite superior permitido\", LS1)\n",
    "print(\"Limite inferior permitido\", LI1)"
   ]
  },
  {
   "cell_type": "code",
   "execution_count": 90,
   "metadata": {},
   "outputs": [
    {
     "data": {
      "image/png": "[encoded data removed]",
      "text/plain": [
       "<Figure size 360x216 with 1 Axes>"
      ]
     },
     "metadata": {
      "needs_background": "light"
     },
     "output_type": "display_data"
    }
   ],
   "source": [
    "#Diagrama de caja: gnp_old.\n",
    "fig = plt.figure(figsize =(5, 3))\n",
    "plt.boxplot(data2[\"gnp_old\"]) \n",
    "plt.title(\"Outliers de gnp_old\")\n",
    "plt.show() #diagrama para visualizar outliers"
   ]
  },
  {
   "cell_type": "code",
   "execution_count": null,
   "metadata": {},
   "outputs": [],
   "source": [
    "#Encuentro los valores extremos: límite superior y límite inferior.\n",
    "#Variable: population.\n",
    "x2=data2[\"population\"]\n",
    "LS2= x2.mean() + 2*x2.std()\n",
    "LI2= x2.mean() - 2*x2.std()\n",
    "print(\"Limite superior permitido\", LS2)\n",
    "print(\"Limite inferior permitido\", LI2)"
   ]
  },
  {
   "cell_type": "code",
   "execution_count": 91,
   "metadata": {},
   "outputs": [
    {
     "data": {
      "image/png": "[encoded data removed]",
      "text/plain": [
       "<Figure size 360x216 with 1 Axes>"
      ]
     },
     "metadata": {
      "needs_background": "light"
     },
     "output_type": "display_data"
    }
   ],
   "source": [
    "#Diagrama de caja: population.\n",
    "#Diagrama de caja: population.\n",
    "fig2 = plt.figure(figsize =(5, 3))\n",
    "plt.boxplot(data2[\"population\"]) \n",
    "plt.title(\"Outliers de population\")\n",
    "plt.show() #diagrama para visualizar outliers"
   ]
  }
 ],
 "metadata": {
  "kernelspec": {
   "display_name": "Python 3.10.6 64-bit (microsoft store)",
   "language": "python",
   "name": "python3"
  },
  "language_info": {
   "codemirror_mode": {
    "name": "ipython",
    "version": 3
   },
   "file_extension": ".py",
   "mimetype": "text/x-python",
   "name": "python",
   "nbconvert_exporter": "python",
   "pygments_lexer": "ipython3",
   "version": "3.10.6"
  },
  "orig_nbformat": 4,
  "vscode": {
   "interpreter": {
    "hash": "8bdb6cfb01423875b53bbdacac8cafabfbfae2881293bc8f69e02add7339e574"
   }
  }
 },
 "nbformat": 4,
 "nbformat_minor": 2
}
