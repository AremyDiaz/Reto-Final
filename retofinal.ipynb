{
 "cells": [
  {
   "cell_type": "code",
   "execution_count": null,
   "metadata": {},
   "outputs": [],
   "source": [
    "#Importar las librerias pandas, numpy y matplotlib\n",
    "import pandas as pd\n",
    "import numpy as np\n",
    "import matplotlib.pyplot as plt"
   ]
  },
  {
   "cell_type": "code",
   "execution_count": null,
   "metadata": {},
   "outputs": [],
   "source": [
    "#Lectura del archivo.csv\n",
    "data = pd.read_csv(\"CountryTable.csv\")\n",
    "data"
   ]
  },
  {
   "cell_type": "code",
   "execution_count": null,
   "metadata": {},
   "outputs": [],
   "source": [
    "#Detección de datos nulos por columna\n",
    "total_nulos_col = data.isnull().sum()\n",
    "total_nulos_col"
   ]
  },
  {
   "cell_type": "markdown",
   "metadata": {},
   "source": [
    "MÉTODOS DE REEMPLAZO DE VALORES NULOS"
   ]
  },
  {
   "cell_type": "code",
   "execution_count": null,
   "metadata": {},
   "outputs": [],
   "source": [
    "#\"independence_year\": rellenar con el valor \"1900\"\n",
    "data[\"independence_year\"]=data[\"independence_year\"].fillna(1900)"
   ]
  },
  {
   "cell_type": "code",
   "execution_count": null,
   "metadata": {},
   "outputs": [],
   "source": [
    "#\"life_expectancy\": rellenar con el valor \"mean\" de la columna\n",
    "data[\"life_expectancy\"]=data[\"life_expectancy\"].fillna(round(data[\"life_expectancy\"].mean(),1)) #El 1 significa que solo me deje un decimal"
   ]
  },
  {
   "cell_type": "code",
   "execution_count": null,
   "metadata": {},
   "outputs": [],
   "source": [
    "#\"gnp_old\": rellenar con el valor \"median\" de la columna\n",
    "data[\"gnp_old\"]=data[\"gnp_old\"].fillna(round(data[\"gnp_old\"].median(),1)) #El 1 es de un decimal"
   ]
  },
  {
   "cell_type": "code",
   "execution_count": null,
   "metadata": {},
   "outputs": [],
   "source": [
    "#\"local_name\": rellenar con el string \"Inexistente\"\n",
    "data[\"local_name\"] = data[\"local_name\"].fillna(\"Inexistente\")"
   ]
  },
  {
   "cell_type": "code",
   "execution_count": null,
   "metadata": {},
   "outputs": [],
   "source": [
    "#\"head_of_state\": rellenar con el string \"Desconocido\"\n",
    "data[\"head_of_state\"] = data[\"head_of_state\"].fillna(\"Desconocido\")"
   ]
  },
  {
   "cell_type": "code",
   "execution_count": null,
   "metadata": {},
   "outputs": [],
   "source": [
    "#\"capital\": rellenar con el valor \"0\"\n",
    "data[\"capital\"]=data[\"capital\"].fillna(0)"
   ]
  },
  {
   "cell_type": "code",
   "execution_count": null,
   "metadata": {},
   "outputs": [],
   "source": [
    "#\"code2\": rellenar con el string \"NA\"\n",
    "data[\"code2\"] = data[\"code2\"].fillna(\"NA\")"
   ]
  },
  {
   "cell_type": "code",
   "execution_count": null,
   "metadata": {},
   "outputs": [],
   "source": [
    "#Comprobación del remplazo de nulos\n",
    "total_nulos_col = data.isnull().sum().sum()\n",
    "total_nulos_col"
   ]
  },
  {
   "cell_type": "markdown",
   "metadata": {},
   "source": [
    "DETECCIÓN DE OUTLIERS"
   ]
  },
  {
   "cell_type": "markdown",
   "metadata": {},
   "source": [
    "Distribución normal"
   ]
  },
  {
   "cell_type": "code",
   "execution_count": null,
   "metadata": {},
   "outputs": [],
   "source": [
    "#Creación de una copia de la base de datos\n",
    "data2=data.copy()"
   ]
  },
  {
   "cell_type": "code",
   "execution_count": null,
   "metadata": {},
   "outputs": [],
   "source": [
    "#Valores extremos: límite superior y límite inferior.\n",
    "#Variable: gnp_old.\n",
    "x1=data2[\"gnp_old\"]\n",
    "LS1= x1.mean() + 2*x1.std()\n",
    "LI1= x1.mean() - 2*x1.std()\n",
    "print(\"Limite superior permitido\", LS1)\n",
    "print(\"Limite inferior permitido\", LI1)"
   ]
  },
  {
   "cell_type": "code",
   "execution_count": null,
   "metadata": {},
   "outputs": [],
   "source": [
    "#Outliers de gnp_old\n",
    "outliers_gnp_old_desvest = data2[(x1>LS1)|(x1<LI1)]\n",
    "outliers_gnp_old_desvest"
   ]
  },
  {
   "cell_type": "code",
   "execution_count": null,
   "metadata": {},
   "outputs": [],
   "source": [
    "#Diagrama de caja: gnp_old.\n",
    "fig1 = plt.figure(figsize =(5, 3))\n",
    "plt.boxplot(data2[\"gnp_old\"]) \n",
    "plt.title(\"Outliers de gnp_old\")\n",
    "plt.show() #diagrama para visualizar outliers"
   ]
  },
  {
   "cell_type": "code",
   "execution_count": null,
   "metadata": {},
   "outputs": [],
   "source": [
    "#Valores extremos: límite superior y límite inferior.\n",
    "#Variable: population.\n",
    "x2=data2[\"population\"]\n",
    "LS2= x2.mean() + 2*x2.std()\n",
    "LI2= x2.mean() - 2*x2.std()\n",
    "print(\"Limite superior permitido\", LS2)\n",
    "print(\"Limite inferior permitido\", LI2)"
   ]
  },
  {
   "cell_type": "code",
   "execution_count": null,
   "metadata": {},
   "outputs": [],
   "source": [
    "#Outliers de population\n",
    "outliers_population_desvest = data2[(x2>LS2)|(x2<LI2)]\n",
    "outliers_population_desvest"
   ]
  },
  {
   "cell_type": "code",
   "execution_count": null,
   "metadata": {},
   "outputs": [],
   "source": [
    "#Diagrama de caja: population.\n",
    "fig2 = plt.figure(figsize =(5, 3))\n",
    "plt.boxplot(data2[\"population\"]) \n",
    "plt.title(\"Outliers de population\")\n",
    "plt.show() #diagrama para visualizar outliers"
   ]
  },
  {
   "cell_type": "markdown",
   "metadata": {},
   "source": [
    "Rango intercuartílico"
   ]
  },
  {
   "cell_type": "code",
   "execution_count": null,
   "metadata": {},
   "outputs": [],
   "source": [
    "#Valores extremos: límite superior y límite inferior.\n",
    "#Variable: gnp_old.\n",
    "\n",
    "x3=data2[\"gnp_old\"]\n",
    "\n",
    "p25x3=x3.quantile(0.25) #Q1\n",
    "p75x3=x3.quantile(0.75) #Q3\n",
    "iqrx3 = p75x3 - p25x3 #Q3-Q1\n",
    "\n",
    "LS_iqr_x3 = p75x3 + 1.3*iqrx3\n",
    "LI_iqr_x3 = p25x3 - 1.3*iqrx3\n",
    "print(\"Limite superior permitido\", LS_iqr_x3)\n",
    "print(\"Limite inferior permitido\", LI_iqr_x3)"
   ]
  },
  {
   "cell_type": "code",
   "execution_count": null,
   "metadata": {},
   "outputs": [],
   "source": [
    "#Outliers de gnp_old\n",
    "outliers_gnp_old_iqr = data2[(x3>LS_iqr_x3)|(x3<LI_iqr_x3)]\n",
    "outliers_gnp_old_iqr"
   ]
  },
  {
   "cell_type": "code",
   "execution_count": null,
   "metadata": {},
   "outputs": [],
   "source": [
    "#Diagrama de caja: gnp_old.\n",
    "fig3 = plt.figure(figsize =(5, 3))\n",
    "plt.boxplot(data2[\"gnp_old\"]) \n",
    "plt.title(\"Outliers de gnp_old\")\n",
    "plt.show() #diagrama para visualizar outliers"
   ]
  },
  {
   "cell_type": "code",
   "execution_count": null,
   "metadata": {},
   "outputs": [],
   "source": [
    "#Valores extremos: límite superior y límite inferior.\n",
    "#Variable: surface_area\n",
    "\n",
    "x4=data2[\"surface_area\"]\n",
    "\n",
    "p25x4=x4.quantile(0.25) #Q1\n",
    "p75x4=x4.quantile(0.75) #Q3\n",
    "iqrx4 = p75x4 - p25x4 #Q3-Q1\n",
    "\n",
    "LS_iqr_x4 = p75x4 + 1.3*iqrx4\n",
    "LI_iqr_x4 = p25x4 - 1.3*iqrx4\n",
    "print(\"Limite superior permitido\", LS_iqr_x4)\n",
    "print(\"Limite inferior permitido\", LI_iqr_x4)"
   ]
  },
  {
   "cell_type": "code",
   "execution_count": null,
   "metadata": {},
   "outputs": [],
   "source": [
    "#Outliers de surface_area\n",
    "outliers_surf_area_iqr = data2[(x4>LS_iqr_x4)|(x4<LI_iqr_x4)]\n",
    "outliers_surf_area_iqr"
   ]
  },
  {
   "cell_type": "code",
   "execution_count": null,
   "metadata": {},
   "outputs": [],
   "source": [
    "#Diagrama de caja: surface_area\n",
    "fig4 = plt.figure(figsize =(5, 3))\n",
    "plt.boxplot(data2[\"surface_area\"]) \n",
    "plt.title(\"Outliers de surface_area\")\n",
    "plt.show() #diagrama para visualizar outliers"
   ]
  },
  {
   "cell_type": "code",
   "execution_count": null,
   "metadata": {},
   "outputs": [],
   "source": [
    "#Valores extremos: límite superior y límite inferior.\n",
    "#Variable: life_expectancy\n",
    "\n",
    "x5=data2[\"life_expectancy\"]\n",
    "\n",
    "p25x5=x5.quantile(0.25) #Q1\n",
    "p75x5=x5.quantile(0.75) #Q3\n",
    "iqrx5 = p75x5 - p25x5 #Q3-Q1\n",
    "\n",
    "LS_iqr_x5 = p75x5 + 1.3*iqrx5\n",
    "LI_iqr_x5 = p25x5 - 1.3*iqrx5\n",
    "print(\"Limite superior permitido\", LS_iqr_x5)\n",
    "print(\"Limite inferior permitido\", LI_iqr_x5)"
   ]
  },
  {
   "cell_type": "code",
   "execution_count": null,
   "metadata": {},
   "outputs": [],
   "source": [
    "#Outliers de life_expectancy\n",
    "outliers_life_exp_iqr = data2[(x5>LS_iqr_x5)|(x5<LI_iqr_x5)]\n",
    "outliers_life_exp_iqr"
   ]
  },
  {
   "cell_type": "code",
   "execution_count": null,
   "metadata": {},
   "outputs": [],
   "source": [
    "#Diagrama de caja: life_expectancy\n",
    "fig5 = plt.figure(figsize =(5, 3))\n",
    "plt.boxplot(data2[\"life_expectancy\"]) \n",
    "plt.title(\"Outliers de life_expectancy\")\n",
    "plt.show() #diagrama para visualizar outliers"
   ]
  },
  {
   "cell_type": "code",
   "execution_count": null,
   "metadata": {},
   "outputs": [],
   "source": [
    "#Valores extremos: límite superior y límite inferior.\n",
    "#Variable: population\n",
    "\n",
    "x6=data2[\"population\"]\n",
    "\n",
    "p25x6=x6.quantile(0.25) #Q1\n",
    "p75x6=x6.quantile(0.75) #Q3\n",
    "iqrx6 = p75x6 - p25x6 #Q3-Q1\n",
    "\n",
    "LS_iqr_x6 = p75x6 + 1.3*iqrx6\n",
    "LI_iqr_x6 = p25x6 - 1.3*iqrx6\n",
    "print(\"Limite superior permitido\", LS_iqr_x6)\n",
    "print(\"Limite inferior permitido\", LI_iqr_x6)"
   ]
  },
  {
   "cell_type": "code",
   "execution_count": null,
   "metadata": {},
   "outputs": [],
   "source": [
    "#Outliers de population\n",
    "outliers_pop_iqr = data2[(x6>LS_iqr_x6)|(x6<LI_iqr_x6)]\n",
    "outliers_pop_iqr"
   ]
  },
  {
   "cell_type": "code",
   "execution_count": null,
   "metadata": {},
   "outputs": [],
   "source": [
    "#Diagrama de caja: population\n",
    "fig6 = plt.figure(figsize =(5, 3))\n",
    "plt.boxplot(data2[\"population\"]) \n",
    "plt.title(\"Outliers de population\")\n",
    "plt.show() #diagrama para visualizar outliers"
   ]
  },
  {
   "cell_type": "markdown",
   "metadata": {},
   "source": [
    "SUSTITUCIÓN DE ATÍPICOS"
   ]
  },
  {
   "cell_type": "code",
   "execution_count": null,
   "metadata": {},
   "outputs": [],
   "source": [
    "#Valores extremos: límite superior y límite inferior.\n",
    "#Variable: gnp_old.\n",
    "x7=data2[\"gnp_old\"]\n",
    "LS7 = x7.mean() + 3*x7.std()\n",
    "LI7 = x7.mean() - 3*x7.std()\n",
    "print(\"Limite superior permitido\", LS7)\n",
    "print(\"Limite inferior permitido\", LI7)"
   ]
  },
  {
   "cell_type": "code",
   "execution_count": 163,
   "metadata": {},
   "outputs": [
    {
     "data": {
      "text/html": [
       "<div>\n",
       "<style scoped>\n",
       "    .dataframe tbody tr th:only-of-type {\n",
       "        vertical-align: middle;\n",
       "    }\n",
       "\n",
       "    .dataframe tbody tr th {\n",
       "        vertical-align: top;\n",
       "    }\n",
       "\n",
       "    .dataframe thead th {\n",
       "        text-align: right;\n",
       "    }\n",
       "</style>\n",
       "<table border=\"1\" class=\"dataframe\">\n",
       "  <thead>\n",
       "    <tr style=\"text-align: right;\">\n",
       "      <th></th>\n",
       "      <th>code</th>\n",
       "      <th>name</th>\n",
       "      <th>continent</th>\n",
       "      <th>region</th>\n",
       "      <th>surface_area</th>\n",
       "      <th>independence_year</th>\n",
       "      <th>population</th>\n",
       "      <th>life_expectancy</th>\n",
       "      <th>gnp</th>\n",
       "      <th>gnp_old</th>\n",
       "      <th>local_name</th>\n",
       "      <th>government_form</th>\n",
       "      <th>head_of_state</th>\n",
       "      <th>capital</th>\n",
       "      <th>code2</th>\n",
       "    </tr>\n",
       "  </thead>\n",
       "  <tbody>\n",
       "    <tr>\n",
       "      <th>56</th>\n",
       "      <td>DEu</td>\n",
       "      <td>Germany</td>\n",
       "      <td>Europe</td>\n",
       "      <td>Western Europe</td>\n",
       "      <td>357022.0</td>\n",
       "      <td>1955.0</td>\n",
       "      <td>82164700</td>\n",
       "      <td>77.4</td>\n",
       "      <td>2133367.0</td>\n",
       "      <td>2102826.0</td>\n",
       "      <td>Deutschland</td>\n",
       "      <td>Federal Republic</td>\n",
       "      <td>Johannes Rau</td>\n",
       "      <td>3068.0</td>\n",
       "      <td>DE</td>\n",
       "    </tr>\n",
       "    <tr>\n",
       "      <th>109</th>\n",
       "      <td>JPN</td>\n",
       "      <td>Japan</td>\n",
       "      <td>Asia</td>\n",
       "      <td>Eastern Asia</td>\n",
       "      <td>377829.0</td>\n",
       "      <td>-660.0</td>\n",
       "      <td>126714000</td>\n",
       "      <td>80.7</td>\n",
       "      <td>3787042.0</td>\n",
       "      <td>4192638.0</td>\n",
       "      <td>Nihon/Nippon</td>\n",
       "      <td>Constitutional Monarchy</td>\n",
       "      <td>Akihito</td>\n",
       "      <td>1532.0</td>\n",
       "      <td>JP</td>\n",
       "    </tr>\n",
       "    <tr>\n",
       "      <th>223</th>\n",
       "      <td>uSA</td>\n",
       "      <td>united States</td>\n",
       "      <td>North America</td>\n",
       "      <td>North America</td>\n",
       "      <td>9363520.0</td>\n",
       "      <td>1776.0</td>\n",
       "      <td>278357000</td>\n",
       "      <td>77.1</td>\n",
       "      <td>8510700.0</td>\n",
       "      <td>8110900.0</td>\n",
       "      <td>united States</td>\n",
       "      <td>Federal Republic</td>\n",
       "      <td>George W. Bush</td>\n",
       "      <td>3813.0</td>\n",
       "      <td>uS</td>\n",
       "    </tr>\n",
       "  </tbody>\n",
       "</table>\n",
       "</div>"
      ],
      "text/plain": [
       "    code           name      continent          region  surface_area  \\\n",
       "56   DEu        Germany         Europe  Western Europe      357022.0   \n",
       "109  JPN          Japan           Asia    Eastern Asia      377829.0   \n",
       "223  uSA  united States  North America   North America     9363520.0   \n",
       "\n",
       "     independence_year  population  life_expectancy        gnp    gnp_old  \\\n",
       "56              1955.0    82164700             77.4  2133367.0  2102826.0   \n",
       "109             -660.0   126714000             80.7  3787042.0  4192638.0   \n",
       "223             1776.0   278357000             77.1  8510700.0  8110900.0   \n",
       "\n",
       "        local_name          government_form   head_of_state  capital code2  \n",
       "56     Deutschland         Federal Republic    Johannes Rau   3068.0    DE  \n",
       "109   Nihon/Nippon  Constitutional Monarchy         Akihito   1532.0    JP  \n",
       "223  united States         Federal Republic  George W. Bush   3813.0    uS  "
      ]
     },
     "execution_count": 163,
     "metadata": {},
     "output_type": "execute_result"
    }
   ],
   "source": [
    "#Outliers de gnp_old\n",
    "outliers_gnp_old_desvest2 = data2[(x7>LS7)|(x7<LI7)]\n",
    "outliers_gnp_old_desvest2"
   ]
  },
  {
   "cell_type": "markdown",
   "metadata": {},
   "source": [
    "En caso de detectar outliers, sustituirlos por el promedio de la columna"
   ]
  },
  {
   "cell_type": "code",
   "execution_count": 165,
   "metadata": {},
   "outputs": [
    {
     "data": {
      "text/html": [
       "<div>\n",
       "<style scoped>\n",
       "    .dataframe tbody tr th:only-of-type {\n",
       "        vertical-align: middle;\n",
       "    }\n",
       "\n",
       "    .dataframe tbody tr th {\n",
       "        vertical-align: top;\n",
       "    }\n",
       "\n",
       "    .dataframe thead th {\n",
       "        text-align: right;\n",
       "    }\n",
       "</style>\n",
       "<table border=\"1\" class=\"dataframe\">\n",
       "  <thead>\n",
       "    <tr style=\"text-align: right;\">\n",
       "      <th></th>\n",
       "      <th>code</th>\n",
       "      <th>name</th>\n",
       "      <th>continent</th>\n",
       "      <th>region</th>\n",
       "      <th>surface_area</th>\n",
       "      <th>independence_year</th>\n",
       "      <th>population</th>\n",
       "      <th>life_expectancy</th>\n",
       "      <th>gnp</th>\n",
       "      <th>gnp_old</th>\n",
       "      <th>local_name</th>\n",
       "      <th>government_form</th>\n",
       "      <th>head_of_state</th>\n",
       "      <th>capital</th>\n",
       "      <th>code2</th>\n",
       "    </tr>\n",
       "  </thead>\n",
       "  <tbody>\n",
       "    <tr>\n",
       "      <th>0</th>\n",
       "      <td>ABW</td>\n",
       "      <td>Aruba</td>\n",
       "      <td>North America</td>\n",
       "      <td>Caribbean</td>\n",
       "      <td>193.0</td>\n",
       "      <td>1900.0</td>\n",
       "      <td>103000</td>\n",
       "      <td>78.4</td>\n",
       "      <td>828.0</td>\n",
       "      <td>793.0</td>\n",
       "      <td>Aruba</td>\n",
       "      <td>Nonmetropolitan Territory of The Netherlands</td>\n",
       "      <td>Willem-Alexander</td>\n",
       "      <td>129.0</td>\n",
       "      <td>AW</td>\n",
       "    </tr>\n",
       "    <tr>\n",
       "      <th>1</th>\n",
       "      <td>AFG</td>\n",
       "      <td>Afghanistan</td>\n",
       "      <td>Asia</td>\n",
       "      <td>Southern and Central Asia</td>\n",
       "      <td>652090.0</td>\n",
       "      <td>1919.0</td>\n",
       "      <td>22720000</td>\n",
       "      <td>45.9</td>\n",
       "      <td>5976.0</td>\n",
       "      <td>8421.0</td>\n",
       "      <td>Afganistan/Afqanestan</td>\n",
       "      <td>Islamic Emirate</td>\n",
       "      <td>Mohammad Omar</td>\n",
       "      <td>1.0</td>\n",
       "      <td>AF</td>\n",
       "    </tr>\n",
       "    <tr>\n",
       "      <th>2</th>\n",
       "      <td>AGO</td>\n",
       "      <td>Angola</td>\n",
       "      <td>Africa</td>\n",
       "      <td>Central Africa</td>\n",
       "      <td>1246700.0</td>\n",
       "      <td>1975.0</td>\n",
       "      <td>12878000</td>\n",
       "      <td>38.3</td>\n",
       "      <td>6648.0</td>\n",
       "      <td>7984.0</td>\n",
       "      <td>Angola</td>\n",
       "      <td>Republic</td>\n",
       "      <td>Jose Eduardo dos Santos</td>\n",
       "      <td>56.0</td>\n",
       "      <td>AO</td>\n",
       "    </tr>\n",
       "    <tr>\n",
       "      <th>3</th>\n",
       "      <td>AIA</td>\n",
       "      <td>Anguilla</td>\n",
       "      <td>North America</td>\n",
       "      <td>Caribbean</td>\n",
       "      <td>96.0</td>\n",
       "      <td>1900.0</td>\n",
       "      <td>8000</td>\n",
       "      <td>76.1</td>\n",
       "      <td>63.2</td>\n",
       "      <td>8421.0</td>\n",
       "      <td>Anguilla</td>\n",
       "      <td>Dependent Territory of the uK</td>\n",
       "      <td>Elisabeth II</td>\n",
       "      <td>62.0</td>\n",
       "      <td>AI</td>\n",
       "    </tr>\n",
       "    <tr>\n",
       "      <th>4</th>\n",
       "      <td>ALB</td>\n",
       "      <td>Albania</td>\n",
       "      <td>Europe</td>\n",
       "      <td>Southern Europe</td>\n",
       "      <td>28748.0</td>\n",
       "      <td>1912.0</td>\n",
       "      <td>3401200</td>\n",
       "      <td>71.6</td>\n",
       "      <td>3205.0</td>\n",
       "      <td>2500.0</td>\n",
       "      <td>Shqiperia</td>\n",
       "      <td>Republic</td>\n",
       "      <td>Rexhep Mejdani</td>\n",
       "      <td>34.0</td>\n",
       "      <td>AL</td>\n",
       "    </tr>\n",
       "    <tr>\n",
       "      <th>...</th>\n",
       "      <td>...</td>\n",
       "      <td>...</td>\n",
       "      <td>...</td>\n",
       "      <td>...</td>\n",
       "      <td>...</td>\n",
       "      <td>...</td>\n",
       "      <td>...</td>\n",
       "      <td>...</td>\n",
       "      <td>...</td>\n",
       "      <td>...</td>\n",
       "      <td>...</td>\n",
       "      <td>...</td>\n",
       "      <td>...</td>\n",
       "      <td>...</td>\n",
       "      <td>...</td>\n",
       "    </tr>\n",
       "    <tr>\n",
       "      <th>234</th>\n",
       "      <td>YEM</td>\n",
       "      <td>Yemen</td>\n",
       "      <td>Asia</td>\n",
       "      <td>Middle East</td>\n",
       "      <td>527968.0</td>\n",
       "      <td>1918.0</td>\n",
       "      <td>18112000</td>\n",
       "      <td>59.8</td>\n",
       "      <td>6041.0</td>\n",
       "      <td>5729.0</td>\n",
       "      <td>Al-Yaman</td>\n",
       "      <td>Republic</td>\n",
       "      <td>Ali Abdallah Salih</td>\n",
       "      <td>1780.0</td>\n",
       "      <td>YE</td>\n",
       "    </tr>\n",
       "    <tr>\n",
       "      <th>235</th>\n",
       "      <td>YuG</td>\n",
       "      <td>Yugoslavia</td>\n",
       "      <td>Europe</td>\n",
       "      <td>Southern Europe</td>\n",
       "      <td>102173.0</td>\n",
       "      <td>1918.0</td>\n",
       "      <td>10640000</td>\n",
       "      <td>72.4</td>\n",
       "      <td>17000.0</td>\n",
       "      <td>8421.0</td>\n",
       "      <td>Jugoslavija</td>\n",
       "      <td>Federal Republic</td>\n",
       "      <td>Vojislav KoStunica</td>\n",
       "      <td>1792.0</td>\n",
       "      <td>Yu</td>\n",
       "    </tr>\n",
       "    <tr>\n",
       "      <th>236</th>\n",
       "      <td>ZAF</td>\n",
       "      <td>South Africa</td>\n",
       "      <td>Africa</td>\n",
       "      <td>Southern Africa</td>\n",
       "      <td>1221037.0</td>\n",
       "      <td>1910.0</td>\n",
       "      <td>40377000</td>\n",
       "      <td>51.1</td>\n",
       "      <td>116729.0</td>\n",
       "      <td>129092.0</td>\n",
       "      <td>South Africa</td>\n",
       "      <td>Republic</td>\n",
       "      <td>Thabo Mbeki</td>\n",
       "      <td>716.0</td>\n",
       "      <td>ZA</td>\n",
       "    </tr>\n",
       "    <tr>\n",
       "      <th>237</th>\n",
       "      <td>ZMB</td>\n",
       "      <td>Zambia</td>\n",
       "      <td>Africa</td>\n",
       "      <td>Eastern Africa</td>\n",
       "      <td>752618.0</td>\n",
       "      <td>1964.0</td>\n",
       "      <td>9169000</td>\n",
       "      <td>37.2</td>\n",
       "      <td>3377.0</td>\n",
       "      <td>3922.0</td>\n",
       "      <td>Zambia</td>\n",
       "      <td>Republic</td>\n",
       "      <td>Frederick Chiluba</td>\n",
       "      <td>3162.0</td>\n",
       "      <td>ZM</td>\n",
       "    </tr>\n",
       "    <tr>\n",
       "      <th>238</th>\n",
       "      <td>ZWE</td>\n",
       "      <td>Zimbabwe</td>\n",
       "      <td>Africa</td>\n",
       "      <td>Eastern Africa</td>\n",
       "      <td>390757.0</td>\n",
       "      <td>1980.0</td>\n",
       "      <td>11669000</td>\n",
       "      <td>37.8</td>\n",
       "      <td>5951.0</td>\n",
       "      <td>8670.0</td>\n",
       "      <td>Zimbabwe</td>\n",
       "      <td>Republic</td>\n",
       "      <td>Robert G. Mugabe</td>\n",
       "      <td>4068.0</td>\n",
       "      <td>ZW</td>\n",
       "    </tr>\n",
       "  </tbody>\n",
       "</table>\n",
       "<p>236 rows × 15 columns</p>\n",
       "</div>"
      ],
      "text/plain": [
       "    code          name      continent                     region  \\\n",
       "0    ABW         Aruba  North America                  Caribbean   \n",
       "1    AFG   Afghanistan           Asia  Southern and Central Asia   \n",
       "2    AGO        Angola         Africa             Central Africa   \n",
       "3    AIA      Anguilla  North America                  Caribbean   \n",
       "4    ALB       Albania         Europe            Southern Europe   \n",
       "..   ...           ...            ...                        ...   \n",
       "234  YEM         Yemen           Asia                Middle East   \n",
       "235  YuG    Yugoslavia         Europe            Southern Europe   \n",
       "236  ZAF  South Africa         Africa            Southern Africa   \n",
       "237  ZMB        Zambia         Africa             Eastern Africa   \n",
       "238  ZWE      Zimbabwe         Africa             Eastern Africa   \n",
       "\n",
       "     surface_area  independence_year  population  life_expectancy       gnp  \\\n",
       "0           193.0             1900.0      103000             78.4     828.0   \n",
       "1        652090.0             1919.0    22720000             45.9    5976.0   \n",
       "2       1246700.0             1975.0    12878000             38.3    6648.0   \n",
       "3            96.0             1900.0        8000             76.1      63.2   \n",
       "4         28748.0             1912.0     3401200             71.6    3205.0   \n",
       "..            ...                ...         ...              ...       ...   \n",
       "234      527968.0             1918.0    18112000             59.8    6041.0   \n",
       "235      102173.0             1918.0    10640000             72.4   17000.0   \n",
       "236     1221037.0             1910.0    40377000             51.1  116729.0   \n",
       "237      752618.0             1964.0     9169000             37.2    3377.0   \n",
       "238      390757.0             1980.0    11669000             37.8    5951.0   \n",
       "\n",
       "      gnp_old             local_name  \\\n",
       "0       793.0                  Aruba   \n",
       "1      8421.0  Afganistan/Afqanestan   \n",
       "2      7984.0                 Angola   \n",
       "3      8421.0               Anguilla   \n",
       "4      2500.0              Shqiperia   \n",
       "..        ...                    ...   \n",
       "234    5729.0               Al-Yaman   \n",
       "235    8421.0            Jugoslavija   \n",
       "236  129092.0           South Africa   \n",
       "237    3922.0                 Zambia   \n",
       "238    8670.0               Zimbabwe   \n",
       "\n",
       "                                  government_form            head_of_state  \\\n",
       "0    Nonmetropolitan Territory of The Netherlands         Willem-Alexander   \n",
       "1                                 Islamic Emirate            Mohammad Omar   \n",
       "2                                        Republic  Jose Eduardo dos Santos   \n",
       "3                   Dependent Territory of the uK             Elisabeth II   \n",
       "4                                        Republic           Rexhep Mejdani   \n",
       "..                                            ...                      ...   \n",
       "234                                      Republic       Ali Abdallah Salih   \n",
       "235                              Federal Republic       Vojislav KoStunica   \n",
       "236                                      Republic              Thabo Mbeki   \n",
       "237                                      Republic        Frederick Chiluba   \n",
       "238                                      Republic         Robert G. Mugabe   \n",
       "\n",
       "     capital code2  \n",
       "0      129.0    AW  \n",
       "1        1.0    AF  \n",
       "2       56.0    AO  \n",
       "3       62.0    AI  \n",
       "4       34.0    AL  \n",
       "..       ...   ...  \n",
       "234   1780.0    YE  \n",
       "235   1792.0    Yu  \n",
       "236    716.0    ZA  \n",
       "237   3162.0    ZM  \n",
       "238   4068.0    ZW  \n",
       "\n",
       "[236 rows x 15 columns]"
      ]
     },
     "execution_count": 165,
     "metadata": {},
     "output_type": "execute_result"
    }
   ],
   "source": [
    "#Obtenemos datos sin outliers en gnp_old\n",
    "#Convertir los outliers en NA's\n",
    "data3=data2[(x7<=LS7)&(x7>=LI7)]\n",
    "data3"
   ]
  },
  {
   "cell_type": "code",
   "execution_count": 167,
   "metadata": {},
   "outputs": [],
   "source": [
    "#\"gnp_old\": sustituirlos por el promedio de la columna\n",
    "data2[\"gnp_old\"]=data3[\"gnp_old\"].fillna(round(data2[\"gnp_old\"].mean(),0)) #Cero porque son números enteros sin decimales"
   ]
  }
 ],
 "metadata": {
  "kernelspec": {
   "display_name": "Python 3.10.6 64-bit (microsoft store)",
   "language": "python",
   "name": "python3"
  },
  "language_info": {
   "codemirror_mode": {
    "name": "ipython",
    "version": 3
   },
   "file_extension": ".py",
   "mimetype": "text/x-python",
   "name": "python",
   "nbconvert_exporter": "python",
   "pygments_lexer": "ipython3",
   "version": "3.10.6"
  },
  "orig_nbformat": 4,
  "vscode": {
   "interpreter": {
    "hash": "8bdb6cfb01423875b53bbdacac8cafabfbfae2881293bc8f69e02add7339e574"
   }
  }
 },
 "nbformat": 4,
 "nbformat_minor": 2
}
