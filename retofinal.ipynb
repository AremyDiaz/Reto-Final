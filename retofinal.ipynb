{
 "cells": [
  {
   "cell_type": "code",
   "execution_count": null,
   "metadata": {},
   "outputs": [],
   "source": [
    "#Importar las librerias pandas, numpy y matplotlib\n",
    "import pandas as pd\n",
    "import numpy as np\n",
    "import matplotlib.pyplot as plt"
   ]
  },
  {
   "cell_type": "code",
   "execution_count": null,
   "metadata": {},
   "outputs": [],
   "source": [
    "#Lectura del archivo.csv\n",
    "data = pd.read_csv(\"CountryTable.csv\")\n",
    "data"
   ]
  },
  {
   "cell_type": "code",
   "execution_count": null,
   "metadata": {},
   "outputs": [],
   "source": [
    "#Detección de datos nulos por columna\n",
    "total_nulos_col = data.isnull().sum()\n",
    "total_nulos_col"
   ]
  },
  {
   "cell_type": "markdown",
   "metadata": {},
   "source": [
    "MÉTODOS DE REEMPLAZO DE VALORES NULOS"
   ]
  },
  {
   "cell_type": "code",
   "execution_count": null,
   "metadata": {},
   "outputs": [],
   "source": [
    "#\"independence_year\": rellenar con el valor \"1900\"\n",
    "data[\"independence_year\"]=data[\"independence_year\"].fillna(1900)"
   ]
  },
  {
   "cell_type": "code",
   "execution_count": null,
   "metadata": {},
   "outputs": [],
   "source": [
    "#\"life_expectancy\": rellenar con el valor \"mean\" de la columna\n",
    "data[\"life_expectancy\"]=data[\"life_expectancy\"].fillna(round(data[\"life_expectancy\"].mean(),1)) #El 1 significa que solo me deje un decimal"
   ]
  },
  {
   "cell_type": "code",
   "execution_count": null,
   "metadata": {},
   "outputs": [],
   "source": [
    "#\"gnp_old\": rellenar con el valor \"median\" de la columna\n",
    "data[\"gnp_old\"]=data[\"gnp_old\"].fillna(round(data[\"gnp_old\"].median(),1)) #El 1 es de un decimal"
   ]
  },
  {
   "cell_type": "code",
   "execution_count": null,
   "metadata": {},
   "outputs": [],
   "source": [
    "#\"local_name\": rellenar con el string \"Inexistente\"\n",
    "data[\"local_name\"] = data[\"local_name\"].fillna(\"Inexistente\")"
   ]
  },
  {
   "cell_type": "code",
   "execution_count": null,
   "metadata": {},
   "outputs": [],
   "source": [
    "#\"head_of_state\": rellenar con el string \"Desconocido\"\n",
    "data[\"head_of_state\"] = data[\"head_of_state\"].fillna(\"Desconocido\")"
   ]
  },
  {
   "cell_type": "code",
   "execution_count": null,
   "metadata": {},
   "outputs": [],
   "source": [
    "#\"capital\": rellenar con el valor \"0\"\n",
    "data[\"capital\"]=data[\"capital\"].fillna(0)"
   ]
  },
  {
   "cell_type": "code",
   "execution_count": null,
   "metadata": {},
   "outputs": [],
   "source": [
    "#\"code2\": rellenar con el string \"NA\"\n",
    "data[\"code2\"] = data[\"code2\"].fillna(\"NA\")"
   ]
  },
  {
   "cell_type": "code",
   "execution_count": null,
   "metadata": {},
   "outputs": [],
   "source": [
    "#Comprobación del remplazo de nulos\n",
    "total_nulos_col = data.isnull().sum()\n",
    "total_nulos_col"
   ]
  },
  {
   "cell_type": "markdown",
   "metadata": {},
   "source": [
    "DETECCIÓN DE OUTLIERS"
   ]
  },
  {
   "cell_type": "markdown",
   "metadata": {},
   "source": [
    "Distribución normal"
   ]
  },
  {
   "cell_type": "code",
   "execution_count": null,
   "metadata": {},
   "outputs": [],
   "source": [
    "#Creación de una copia de la base de datos\n",
    "data2=data.copy()"
   ]
  },
  {
   "cell_type": "code",
   "execution_count": null,
   "metadata": {},
   "outputs": [],
   "source": [
    "#Valores extremos: límite superior y límite inferior.\n",
    "#Variable: gnp_old.\n",
    "x1=data2[\"gnp_old\"]\n",
    "LS1= x1.mean() + 2*x1.std()\n",
    "LI1= x1.mean() - 2*x1.std()\n",
    "print(\"Limite superior permitido\", LS1)\n",
    "print(\"Limite inferior permitido\", LI1)"
   ]
  },
  {
   "cell_type": "code",
   "execution_count": null,
   "metadata": {},
   "outputs": [],
   "source": [
    "#Outliers de gnp_old\n",
    "outliers_gnp_old_desvest = data2[(x1>LS1)|(x1<LI1)]\n",
    "outliers_gnp_old_desvest"
   ]
  },
  {
   "cell_type": "code",
   "execution_count": null,
   "metadata": {},
   "outputs": [],
   "source": [
    "#Diagrama de caja: gnp_old.\n",
    "fig1 = plt.figure(figsize =(5, 3))\n",
    "plt.boxplot(data2[\"gnp_old\"]) \n",
    "plt.title(\"Outliers de gnp_old\")\n",
    "plt.show() #diagrama para visualizar outliers"
   ]
  },
  {
   "cell_type": "code",
   "execution_count": null,
   "metadata": {},
   "outputs": [],
   "source": [
    "#Valores extremos: límite superior y límite inferior.\n",
    "#Variable: population.\n",
    "x2=data2[\"population\"]\n",
    "LS2= x2.mean() + 2*x2.std()\n",
    "LI2= x2.mean() - 2*x2.std()\n",
    "print(\"Limite superior permitido\", LS2)\n",
    "print(\"Limite inferior permitido\", LI2)"
   ]
  },
  {
   "cell_type": "code",
   "execution_count": null,
   "metadata": {},
   "outputs": [],
   "source": [
    "#Outliers de population\n",
    "outliers_population_desvest = data2[(x2>LS2)|(x2<LI2)]\n",
    "outliers_population_desvest"
   ]
  },
  {
   "cell_type": "code",
   "execution_count": null,
   "metadata": {},
   "outputs": [],
   "source": [
    "#Diagrama de caja: population.\n",
    "fig2 = plt.figure(figsize =(5, 3))\n",
    "plt.boxplot(data2[\"population\"]) \n",
    "plt.title(\"Outliers de population\")\n",
    "plt.show() #diagrama para visualizar outliers"
   ]
  },
  {
   "cell_type": "markdown",
   "metadata": {},
   "source": [
    "Rango intercuartílico"
   ]
  },
  {
   "cell_type": "code",
   "execution_count": null,
   "metadata": {},
   "outputs": [],
   "source": [
    "#Valores extremos: límite superior y límite inferior.\n",
    "#Variable: gnp_old.\n",
    "\n",
    "x3=data2[\"gnp_old\"]\n",
    "\n",
    "p25x3=x3.quantile(0.25) #Q1\n",
    "p75x3=x3.quantile(0.75) #Q3\n",
    "iqrx3 = p75x3 - p25x3 #Q3-Q1\n",
    "\n",
    "LS_iqr_x3 = p75x3 + 1.3*iqrx3\n",
    "LI_iqr_x3 = p25x3 - 1.3*iqrx3\n",
    "print(\"Limite superior permitido\", LS_iqr_x3)\n",
    "print(\"Limite inferior permitido\", LI_iqr_x3)"
   ]
  },
  {
   "cell_type": "code",
   "execution_count": null,
   "metadata": {},
   "outputs": [],
   "source": [
    "#Outliers de gnp_old\n",
    "outliers_gnp_old_iqr = data2[(x3>LS_iqr_x3)|(x3<LI_iqr_x3)]\n",
    "outliers_gnp_old_iqr"
   ]
  },
  {
   "cell_type": "code",
   "execution_count": null,
   "metadata": {},
   "outputs": [],
   "source": [
    "#Diagrama de caja: gnp_old.\n",
    "fig3 = plt.figure(figsize =(5, 3))\n",
    "plt.boxplot(data2[\"gnp_old\"]) \n",
    "plt.title(\"Outliers de gnp_old\")\n",
    "plt.show() #diagrama para visualizar outliers"
   ]
  },
  {
   "cell_type": "code",
   "execution_count": null,
   "metadata": {},
   "outputs": [],
   "source": [
    "#Valores extremos: límite superior y límite inferior.\n",
    "#Variable: surface_area\n",
    "\n",
    "x4=data2[\"surface_area\"]\n",
    "\n",
    "p25x4=x4.quantile(0.25) #Q1\n",
    "p75x4=x4.quantile(0.75) #Q3\n",
    "iqrx4 = p75x4 - p25x4 #Q3-Q1\n",
    "\n",
    "LS_iqr_x4 = p75x4 + 1.3*iqrx4\n",
    "LI_iqr_x4 = p25x4 - 1.3*iqrx4\n",
    "print(\"Limite superior permitido\", LS_iqr_x4)\n",
    "print(\"Limite inferior permitido\", LI_iqr_x4)"
   ]
  },
  {
   "cell_type": "code",
   "execution_count": null,
   "metadata": {},
   "outputs": [],
   "source": [
    "#Outliers de surface_area\n",
    "outliers_surf_area_iqr = data2[(x4>LS_iqr_x4)|(x4<LI_iqr_x4)]\n",
    "outliers_surf_area_iqr"
   ]
  },
  {
   "cell_type": "code",
   "execution_count": null,
   "metadata": {},
   "outputs": [],
   "source": [
    "#Diagrama de caja: surface_area\n",
    "fig4 = plt.figure(figsize =(5, 3))\n",
    "plt.boxplot(data2[\"surface_area\"]) \n",
    "plt.title(\"Outliers de surface_area\")\n",
    "plt.show() #diagrama para visualizar outliers"
   ]
  },
  {
   "cell_type": "code",
   "execution_count": null,
   "metadata": {},
   "outputs": [],
   "source": [
    "#Valores extremos: límite superior y límite inferior.\n",
    "#Variable: life_expectancy\n",
    "\n",
    "x5=data2[\"life_expectancy\"]\n",
    "\n",
    "p25x5=x5.quantile(0.25) #Q1\n",
    "p75x5=x5.quantile(0.75) #Q3\n",
    "iqrx5 = p75x5 - p25x5 #Q3-Q1\n",
    "\n",
    "LS_iqr_x5 = p75x5 + 1.3*iqrx5\n",
    "LI_iqr_x5 = p25x5 - 1.3*iqrx5\n",
    "print(\"Limite superior permitido\", LS_iqr_x5)\n",
    "print(\"Limite inferior permitido\", LI_iqr_x5)"
   ]
  },
  {
   "cell_type": "code",
   "execution_count": null,
   "metadata": {},
   "outputs": [],
   "source": [
    "#Outliers de life_expectancy\n",
    "outliers_life_exp_iqr = data2[(x5>LS_iqr_x5)|(x5<LI_iqr_x5)]\n",
    "outliers_life_exp_iqr"
   ]
  },
  {
   "cell_type": "code",
   "execution_count": null,
   "metadata": {},
   "outputs": [],
   "source": [
    "#Diagrama de caja: life_expectancy\n",
    "fig5 = plt.figure(figsize =(5, 3))\n",
    "plt.boxplot(data2[\"life_expectancy\"]) \n",
    "plt.title(\"Outliers de life_expectancy\")\n",
    "plt.show() #diagrama para visualizar outliers"
   ]
  },
  {
   "cell_type": "code",
   "execution_count": null,
   "metadata": {},
   "outputs": [],
   "source": [
    "#Valores extremos: límite superior y límite inferior.\n",
    "#Variable: population\n",
    "\n",
    "x6=data2[\"population\"]\n",
    "\n",
    "p25x6=x6.quantile(0.25) #Q1\n",
    "p75x6=x6.quantile(0.75) #Q3\n",
    "iqrx6 = p75x6 - p25x6 #Q3-Q1\n",
    "\n",
    "LS_iqr_x6 = p75x6 + 1.3*iqrx6\n",
    "LI_iqr_x6 = p25x6 - 1.3*iqrx6\n",
    "print(\"Limite superior permitido\", LS_iqr_x6)\n",
    "print(\"Limite inferior permitido\", LI_iqr_x6)"
   ]
  },
  {
   "cell_type": "code",
   "execution_count": null,
   "metadata": {},
   "outputs": [],
   "source": [
    "#Outliers de population\n",
    "outliers_pop_iqr = data2[(x6>LS_iqr_x6)|(x6<LI_iqr_x6)]\n",
    "outliers_pop_iqr"
   ]
  },
  {
   "cell_type": "code",
   "execution_count": null,
   "metadata": {},
   "outputs": [],
   "source": [
    "#Diagrama de caja: population\n",
    "fig6 = plt.figure(figsize =(5, 3))\n",
    "plt.boxplot(data2[\"population\"]) \n",
    "plt.title(\"Outliers de population\")\n",
    "plt.show() #diagrama para visualizar outliers"
   ]
  },
  {
   "cell_type": "markdown",
   "metadata": {},
   "source": [
    "SUSTITUCIÓN DE ATÍPICOS"
   ]
  },
  {
   "cell_type": "code",
   "execution_count": null,
   "metadata": {},
   "outputs": [],
   "source": [
    "#Valores extremos: límite superior y límite inferior.\n",
    "#Variable: gnp_old.\n",
    "x7=data2[\"gnp_old\"]\n",
    "LS7 = x7.mean() + 3*x7.std()\n",
    "LI7 = x7.mean() - 3*x7.std()\n",
    "print(\"Limite superior permitido\", LS7)\n",
    "print(\"Limite inferior permitido\", LI7)"
   ]
  },
  {
   "cell_type": "code",
   "execution_count": 160,
   "metadata": {},
   "outputs": [
    {
     "data": {
      "text/html": [
       "<div>\n",
       "<style scoped>\n",
       "    .dataframe tbody tr th:only-of-type {\n",
       "        vertical-align: middle;\n",
       "    }\n",
       "\n",
       "    .dataframe tbody tr th {\n",
       "        vertical-align: top;\n",
       "    }\n",
       "\n",
       "    .dataframe thead th {\n",
       "        text-align: right;\n",
       "    }\n",
       "</style>\n",
       "<table border=\"1\" class=\"dataframe\">\n",
       "  <thead>\n",
       "    <tr style=\"text-align: right;\">\n",
       "      <th></th>\n",
       "      <th>code</th>\n",
       "      <th>name</th>\n",
       "      <th>continent</th>\n",
       "      <th>region</th>\n",
       "      <th>surface_area</th>\n",
       "      <th>independence_year</th>\n",
       "      <th>population</th>\n",
       "      <th>life_expectancy</th>\n",
       "      <th>gnp</th>\n",
       "      <th>gnp_old</th>\n",
       "      <th>local_name</th>\n",
       "      <th>government_form</th>\n",
       "      <th>head_of_state</th>\n",
       "      <th>capital</th>\n",
       "      <th>code2</th>\n",
       "    </tr>\n",
       "  </thead>\n",
       "  <tbody>\n",
       "    <tr>\n",
       "      <th>56</th>\n",
       "      <td>DEu</td>\n",
       "      <td>Germany</td>\n",
       "      <td>Europe</td>\n",
       "      <td>Western Europe</td>\n",
       "      <td>357022.0</td>\n",
       "      <td>1955.0</td>\n",
       "      <td>82164700</td>\n",
       "      <td>77.4</td>\n",
       "      <td>2133367.0</td>\n",
       "      <td>2102826.0</td>\n",
       "      <td>Deutschland</td>\n",
       "      <td>Federal Republic</td>\n",
       "      <td>Johannes Rau</td>\n",
       "      <td>3068.0</td>\n",
       "      <td>DE</td>\n",
       "    </tr>\n",
       "    <tr>\n",
       "      <th>109</th>\n",
       "      <td>JPN</td>\n",
       "      <td>Japan</td>\n",
       "      <td>Asia</td>\n",
       "      <td>Eastern Asia</td>\n",
       "      <td>377829.0</td>\n",
       "      <td>-660.0</td>\n",
       "      <td>126714000</td>\n",
       "      <td>80.7</td>\n",
       "      <td>3787042.0</td>\n",
       "      <td>4192638.0</td>\n",
       "      <td>Nihon/Nippon</td>\n",
       "      <td>Constitutional Monarchy</td>\n",
       "      <td>Akihito</td>\n",
       "      <td>1532.0</td>\n",
       "      <td>JP</td>\n",
       "    </tr>\n",
       "    <tr>\n",
       "      <th>223</th>\n",
       "      <td>uSA</td>\n",
       "      <td>united States</td>\n",
       "      <td>North America</td>\n",
       "      <td>North America</td>\n",
       "      <td>9363520.0</td>\n",
       "      <td>1776.0</td>\n",
       "      <td>278357000</td>\n",
       "      <td>77.1</td>\n",
       "      <td>8510700.0</td>\n",
       "      <td>8110900.0</td>\n",
       "      <td>united States</td>\n",
       "      <td>Federal Republic</td>\n",
       "      <td>George W. Bush</td>\n",
       "      <td>3813.0</td>\n",
       "      <td>uS</td>\n",
       "    </tr>\n",
       "  </tbody>\n",
       "</table>\n",
       "</div>"
      ],
      "text/plain": [
       "    code           name      continent          region  surface_area  \\\n",
       "56   DEu        Germany         Europe  Western Europe      357022.0   \n",
       "109  JPN          Japan           Asia    Eastern Asia      377829.0   \n",
       "223  uSA  united States  North America   North America     9363520.0   \n",
       "\n",
       "     independence_year  population  life_expectancy        gnp    gnp_old  \\\n",
       "56              1955.0    82164700             77.4  2133367.0  2102826.0   \n",
       "109             -660.0   126714000             80.7  3787042.0  4192638.0   \n",
       "223             1776.0   278357000             77.1  8510700.0  8110900.0   \n",
       "\n",
       "        local_name          government_form   head_of_state  capital code2  \n",
       "56     Deutschland         Federal Republic    Johannes Rau   3068.0    DE  \n",
       "109   Nihon/Nippon  Constitutional Monarchy         Akihito   1532.0    JP  \n",
       "223  united States         Federal Republic  George W. Bush   3813.0    uS  "
      ]
     },
     "execution_count": 160,
     "metadata": {},
     "output_type": "execute_result"
    }
   ],
   "source": [
    "#Outliers de gnp_old\n",
    "outliers_gnp_old_desvest2 = data2[(x7>LS7)|(x7<LI7)]\n",
    "outliers_gnp_old_desvest2"
   ]
  },
  {
   "cell_type": "code",
   "execution_count": null,
   "metadata": {},
   "outputs": [],
   "source": [
    "#En caso de detectar outliers, sustituirlos por el promedio de la columna.\n"
   ]
  }
 ],
 "metadata": {
  "kernelspec": {
   "display_name": "Python 3.10.6 64-bit (microsoft store)",
   "language": "python",
   "name": "python3"
  },
  "language_info": {
   "codemirror_mode": {
    "name": "ipython",
    "version": 3
   },
   "file_extension": ".py",
   "mimetype": "text/x-python",
   "name": "python",
   "nbconvert_exporter": "python",
   "pygments_lexer": "ipython3",
   "version": "3.10.6"
  },
  "orig_nbformat": 4,
  "vscode": {
   "interpreter": {
    "hash": "8bdb6cfb01423875b53bbdacac8cafabfbfae2881293bc8f69e02add7339e574"
   }
  }
 },
 "nbformat": 4,
 "nbformat_minor": 2
}
